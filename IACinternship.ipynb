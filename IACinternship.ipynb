{
  "cells": [
    {
      "cell_type": "markdown",
      "metadata": {
        "id": "bSfnIP42eepu"
      },
      "source": [
        "**Preparing the Data:**"
      ]
    },
    {
      "cell_type": "code",
      "execution_count": 2,
      "metadata": {
        "colab": {
          "base_uri": "https://localhost:8080/"
        },
        "id": "fWtcZoa2G2zA",
        "outputId": "2c49e7cf-818f-4e6d-849f-cbdcaccda1b1"
      },
      "outputs": [
        {
          "name": "stdout",
          "output_type": "stream",
          "text": [
            "Mounted at /content/drive\n"
          ]
        }
      ],
      "source": [
        "#For google drive users uncomment the below code\n",
        "# from google.colab import drive\n",
        "# drive.mount('/content/drive')"
      ]
    },
    {
      "cell_type": "code",
      "execution_count": 1,
      "metadata": {
        "id": "haTA6WeJJSwf"
      },
      "outputs": [],
      "source": [
        "import pandas as pd\n",
        "# file_path = '/content/drive/My Drive/Data analyst Data.csv' #for drive\n",
        "file_path = 'Data analyst Data.csv'\n",
        "df = pd.read_csv(file_path)"
      ]
    },
    {
      "cell_type": "code",
      "execution_count": null,
      "metadata": {
        "colab": {
          "base_uri": "https://localhost:8080/"
        },
        "id": "KriqmmBKJzyx",
        "outputId": "91946ab3-069e-41f0-d182-72e3ca9177b8"
      },
      "outputs": [],
      "source": [
        "column_names = df.columns\n",
        "print(\"Column Names:\")\n",
        "for column_name in column_names:\n",
        "    print(column_name)"
      ]
    },
    {
      "cell_type": "code",
      "execution_count": 3,
      "metadata": {
        "id": "bb-aye2WMa90"
      },
      "outputs": [],
      "source": [
        "# Imports\n",
        "import re\n",
        "import matplotlib.pyplot as plt\n",
        "import seaborn as sns"
      ]
    },
    {
      "cell_type": "markdown",
      "metadata": {
        "id": "JEYpCQXdeC7C"
      },
      "source": [
        "**The Basic Questions:**"
      ]
    },
    {
      "cell_type": "code",
      "execution_count": null,
      "metadata": {
        "colab": {
          "base_uri": "https://localhost:8080/"
        },
        "id": "SccSstYvN7-m",
        "outputId": "1d06a8b5-c977-472f-a4c0-86a1cebf398a"
      },
      "outputs": [],
      "source": [
        "#Q1. How many unique students are included in the dataset?\n",
        "unique_students = df['First Name'].nunique()\n",
        "print(\"Number of unique students:\", unique_students)\n"
      ]
    },
    {
      "cell_type": "code",
      "execution_count": null,
      "metadata": {
        "colab": {
          "base_uri": "https://localhost:8080/"
        },
        "id": "NuJrhsNGOE_v",
        "outputId": "a7886f22-90a4-4c0b-8cda-1c0222902352"
      },
      "outputs": [],
      "source": [
        "#Q2. What is the average GPA of the students?\n",
        "average_gpa = df['CGPA'].mean()\n",
        "print(\"Average GPA of students:\", average_gpa)"
      ]
    },
    {
      "cell_type": "code",
      "execution_count": null,
      "metadata": {
        "colab": {
          "base_uri": "https://localhost:8080/"
        },
        "id": "aul3AodYONX3",
        "outputId": "1059af61-3e1f-425d-ef18-be5099055230"
      },
      "outputs": [],
      "source": [
        "#Q3. What is the distribution of students across different graduation years?\n",
        "graduation_year_distribution = df['Year of Graduation'].value_counts()\n",
        "print(\"Distribution of students by graduation year:\")\n",
        "print(graduation_year_distribution)"
      ]
    },
    {
      "cell_type": "code",
      "execution_count": null,
      "metadata": {
        "colab": {
          "base_uri": "https://localhost:8080/"
        },
        "id": "Iybra-QIOOU6",
        "outputId": "68b20d91-91a5-47f1-a2af-2889e5ff25bb"
      },
      "outputs": [],
      "source": [
        "#Q4. What is the distribution of students' experience with Python programming?\n",
        "python_experience_distribution = df['Experience with python (Months)'].value_counts()\n",
        "print(\"Distribution of students by Python programming experience:\")\n",
        "print(python_experience_distribution)"
      ]
    },
    {
      "cell_type": "code",
      "execution_count": null,
      "metadata": {
        "colab": {
          "base_uri": "https://localhost:8080/"
        },
        "id": "AJOBwOlTOOgy",
        "outputId": "bf433be4-e3e9-48b6-d0cd-3e0e537f89e1"
      },
      "outputs": [],
      "source": [
        "#Q5. What is the average family income of students?\n",
        "def extract_income(value):\n",
        "    income_values = [int(val) for val in re.findall(r'\\d+', value)]\n",
        "    return income_values[0] if 'Lakh+' in value else sum(income_values) / len(income_values)\n",
        "\n",
        "df['Family Income'] = df['Family Income'].apply(extract_income)\n",
        "average_family_income = df['Family Income'].mean()\n",
        "print(\"Average family income of students:\", average_family_income, \"Lakh\")"
      ]
    },
    {
      "cell_type": "code",
      "execution_count": null,
      "metadata": {
        "colab": {
          "base_uri": "https://localhost:8080/"
        },
        "id": "cGsdQ0KhOOtJ",
        "outputId": "6aadbcba-d8a4-4405-c8ac-2e177e879dfe"
      },
      "outputs": [],
      "source": [
        "#Q6. How does the GPA vary among different colleges? (Top 5 results)\n",
        "gpa_by_college = df.groupby('College Name')['CGPA'].mean().sort_values(ascending=False)\n",
        "print(\"Colleges with the highest average GPA:\")\n",
        "print(gpa_by_college.head(5))"
      ]
    },
    {
      "cell_type": "code",
      "execution_count": null,
      "metadata": {
        "colab": {
          "base_uri": "https://localhost:8080/",
          "height": 574
        },
        "id": "oJkx1wYlOO4a",
        "outputId": "051d5810-71ce-4603-e4c4-b98f6d5a79bb"
      },
      "outputs": [],
      "source": [
        "#Q7. Are there any outliers in the attending status and quantity (number of courses completed) attributes?\n",
        "df['Attending_Num'] = df['Attendee Status'].map({'Attending': 1, 'NAN': 0})\n",
        "\n",
        "plt.figure(figsize=(10, 5))\n",
        "plt.subplot(1, 2, 1)\n",
        "sns.countplot(data=df, x='Attending_Num')\n",
        "plt.title('Attending Status')\n",
        "plt.xticks([0, 1], ['NAN', 'Attending'])\n",
        "\n",
        "plt.subplot(1, 2, 2)\n",
        "sns.boxplot(data=df, y='Quantity')\n",
        "plt.title('Quantity (Number of Courses Completed)')\n",
        "\n",
        "outliers_detected_quantity = any(df['Quantity'] < 0.96) or any(df['Quantity'] > 1.04)\n",
        "outliers_detected_attending = any(df['Attending_Num'] < 0) or any(df['Attending_Num'] > 1)\n",
        "\n",
        "print(\"Outliers detected in 'Quantity' data:\", outliers_detected_quantity)\n",
        "print(\"Outliers detected in 'Attending Status' data:\", outliers_detected_attending)\n",
        "print(\"\\nTransformation: 'Attending' represented as 1, 'NAN' represented as 0\\n\")\n",
        "\n",
        "plt.show()\n"
      ]
    },
    {
      "cell_type": "code",
      "execution_count": null,
      "metadata": {
        "colab": {
          "base_uri": "https://localhost:8080/"
        },
        "id": "fl6j8aiBOPDa",
        "outputId": "d987cb1c-7cd3-4f49-90dd-3023c92677ff"
      },
      "outputs": [],
      "source": [
        "#Q8. What is the average GPA for each student from each city?\n",
        "average_gpa_by_city = df.groupby('City')['CGPA'].mean().reset_index()\n",
        "print(\"Average GPA for each city:\")\n",
        "print(average_gpa_by_city)"
      ]
    },
    {
      "cell_type": "code",
      "execution_count": null,
      "metadata": {
        "colab": {
          "base_uri": "https://localhost:8080/",
          "height": 541
        },
        "id": "UVhOQQuKOPOx",
        "outputId": "d697aca3-66d8-4837-cd92-432d5d572c6d"
      },
      "outputs": [],
      "source": [
        "#Q9. Can we identify a relationship between family income and GPA?\n",
        "plt.scatter(df['Family Income'], df['CGPA'])\n",
        "plt.xlabel('Family Income')\n",
        "plt.ylabel('CGPA')\n",
        "plt.title('Scatterplot: Family Income vs. CGPA')\n",
        "plt.show()\n",
        "\n",
        "correlation_coefficient = df['Family Income'].corr(df['CGPA'])\n",
        "print(\"\\nCorrelation Coefficient between Family Income and CGPA:\", correlation_coefficient)\n",
        "print(\"\\nWeak positive linear relationship is shown, No relationship between Family Income and CGPA\")"
      ]
    },
    {
      "cell_type": "markdown",
      "metadata": {
        "id": "-AmrOAhSoHKy"
      },
      "source": [
        "**The Moderate Questions:**"
      ]
    },
    {
      "cell_type": "code",
      "execution_count": null,
      "metadata": {
        "colab": {
          "base_uri": "https://localhost:8080/",
          "height": 404
        },
        "id": "90sXuCA9pDzm",
        "outputId": "430f4f51-14e5-4a8e-bca6-a29a748c1eec"
      },
      "outputs": [],
      "source": [
        "#Q1. How does the expected salary vary based on factors like 'CGPA', 'Family Income', 'Experience with Python'?\n",
        "plt.figure(figsize=(18, 5))\n",
        "\n",
        "plt.subplot(131)\n",
        "plt.scatter(df['CGPA'], df['Expected salary (Lac)'])\n",
        "plt.xlabel('CGPA')\n",
        "plt.ylabel('Expected Salary (Lac)')\n",
        "plt.title('CGPA vs. Expected Salary')\n",
        "\n",
        "plt.subplot(132)\n",
        "plt.scatter(df['Family Income'], df['Expected salary (Lac)'])\n",
        "plt.xlabel('Family Income')\n",
        "plt.ylabel('Expected Salary (Lac)')\n",
        "plt.title('Family Income vs. Expected Salary')\n",
        "\n",
        "plt.subplot(133)\n",
        "plt.scatter(df['Experience with python (Months)'], df['Expected salary (Lac)'])\n",
        "plt.xlabel('Experience with Python (Months)')\n",
        "plt.ylabel('Expected Salary (Lac)')\n",
        "plt.title('Python Experience vs. Expected Salary')\n",
        "\n",
        "plt.tight_layout()\n",
        "plt.show()"
      ]
    },
    {
      "cell_type": "code",
      "execution_count": null,
      "metadata": {
        "colab": {
          "base_uri": "https://localhost:8080/"
        },
        "id": "9qRC8TJsqNaO",
        "outputId": "e3c1dc49-e060-4365-d22a-856390935183"
      },
      "outputs": [],
      "source": [
        "#Q2. Which event tends to attract more students from specific fields of study?\n",
        "event_counts_by_field = df.groupby('Events')['College Name'].value_counts().unstack().fillna(0)\n",
        "most_popular_events = event_counts_by_field.idxmax()\n",
        "print(\"Most popular events by college:\")\n",
        "print(most_popular_events)"
      ]
    },
    {
      "cell_type": "code",
      "execution_count": null,
      "metadata": {
        "colab": {
          "base_uri": "https://localhost:8080/"
        },
        "id": "0ybsg44pqTqi",
        "outputId": "1d20fb64-2145-4af6-8c50-2bf5aeff172b"
      },
      "outputs": [],
      "source": [
        "#Q3. Do students in leadership positions during their college years tend to have higher CGPA or better expected salary?\n",
        "mean_cgpa_leadership = df['CGPA'].mean()\n",
        "mean_salary_leadership = df['Expected salary (Lac)'].mean()\n",
        "\n",
        "print(\"Average CGPA for Students in Leadership Positions:\", df['CGPA'].mean())\n",
        "print(\"Average Expected Salary for Students in Leadership Positions:\", df['Expected salary (Lac)'].mean())\n",
        "\n",
        "if mean_cgpa_leadership > mean_salary_leadership:\n",
        "    print(\"\\nStudents in leadership positions tend to have a higher CGPA.\")\n",
        "elif mean_cgpa_leadership < mean_salary_leadership:\n",
        "    print(\"\\nStudents in leadership positions tend to have a better expected salary.\")\n",
        "else:\n",
        "    print(\"\\nStudents in leadership positions have a similar average CGPA and expected salary.\")"
      ]
    },
    {
      "cell_type": "code",
      "execution_count": null,
      "metadata": {
        "colab": {
          "base_uri": "https://localhost:8080/"
        },
        "id": "nGpkpKSrqUiZ",
        "outputId": "088baca6-23cd-41a8-ed5d-0c087f9891b4"
      },
      "outputs": [],
      "source": [
        "#Q4. Is there a correlation between leadership skills and expected salary of the students?\n",
        "temp_series = df['Leadership- skills'].map({'yes': 1, 'no': 0})\n",
        "correlation = temp_series.corr(df['Expected salary (Lac)'])\n",
        "\n",
        "if correlation > 0:\n",
        "    result = \"There is a positive correlation\"\n",
        "elif correlation < 0:\n",
        "    result = \"There is a negative correlation\"\n",
        "else:\n",
        "    result = \"There is no correlation\"\n",
        "\n",
        "print(\"Correlation between Leadership- skills and Expected salary (Lac):\", correlation)\n",
        "print(\"Conclusion:\", result)"
      ]
    },
    {
      "cell_type": "code",
      "execution_count": null,
      "metadata": {
        "colab": {
          "base_uri": "https://localhost:8080/"
        },
        "id": "0CO7rUu7qU6w",
        "outputId": "e6484057-1474-4ae5-ac3a-61ef3c9d4c19"
      },
      "outputs": [],
      "source": [
        "#Q5. How many students are graduating by the end of 2024?\n",
        "students_graduating_2024 = len(df[df['Year of Graduation'] == 2024])\n",
        "print(\"Number of students graduating by the end of 2024:\", students_graduating_2024)"
      ]
    },
    {
      "cell_type": "code",
      "execution_count": null,
      "metadata": {
        "colab": {
          "base_uri": "https://localhost:8080/"
        },
        "id": "-VjjSml7qVh5",
        "outputId": "92cd1307-0a3b-42bb-f436-04ff2e439807"
      },
      "outputs": [],
      "source": [
        "#Q6. Which promotion channel brings in more student participations for the event?\n",
        "promotion_counts = df['How did you come to know about this event?'].value_counts()\n",
        "most_popular_promotion_channel = promotion_counts.idxmax()\n",
        "print(\"Most popular promotion channel:\", most_popular_promotion_channel)"
      ]
    },
    {
      "cell_type": "code",
      "execution_count": null,
      "metadata": {
        "colab": {
          "base_uri": "https://localhost:8080/"
        },
        "id": "seKfYmERqVxv",
        "outputId": "541af001-c339-420b-a00a-3c72abb6f308"
      },
      "outputs": [],
      "source": [
        "#Q7. Find the total number of students who attend events related to data science (from all data science related courses).\n",
        "data_science_courses = [\n",
        "    'Data Visualization using Power BI',\n",
        "    'Artificial Intelligence',\n",
        "    'Hello ML and DL',\n",
        "    'IS DATA SCIENCE FOR YOU?',\n",
        "    'KYC - Know Your CCPC',\n",
        "    'RPA: A Boon or A Bane'\n",
        "]\n",
        "data_science_students = df[df['Events'].isin(data_science_courses)]\n",
        "total_data_science_students = len(data_science_students)\n",
        "print(\"Total number of students attending Data Science events:\", total_data_science_students)\n"
      ]
    },
    {
      "cell_type": "code",
      "execution_count": null,
      "metadata": {
        "colab": {
          "base_uri": "https://localhost:8080/"
        },
        "id": "5BcZYl-dqV_u",
        "outputId": "e24fde16-cfce-45af-876c-9f3d4eb4c28f"
      },
      "outputs": [],
      "source": [
        "#Q8. Do students with high CGPA and more experience in python have higher expectations for salary (avg)?\n",
        "high_cgpa_experience = df[(df['CGPA'] > 8.038) & (df['Experience with python (Months)'] > 5.39)]\n",
        "average_salary = high_cgpa_experience['Expected salary (Lac)'].mean()\n",
        "print(\"Average Expected Salary for high CGPA and python experience students:\", average_salary)"
      ]
    }
  ],
  "metadata": {
    "colab": {
      "provenance": []
    },
    "kernelspec": {
      "display_name": "Python 3",
      "name": "python3"
    },
    "language_info": {
      "codemirror_mode": {
        "name": "ipython",
        "version": 3
      },
      "file_extension": ".py",
      "mimetype": "text/x-python",
      "name": "python",
      "nbconvert_exporter": "python",
      "pygments_lexer": "ipython3",
      "version": "3.10.6"
    }
  },
  "nbformat": 4,
  "nbformat_minor": 0
}
